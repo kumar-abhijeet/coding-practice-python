{
  "nbformat": 4,
  "nbformat_minor": 0,
  "metadata": {
    "colab": {
      "provenance": []
    },
    "kernelspec": {
      "name": "python3",
      "display_name": "Python 3"
    },
    "language_info": {
      "name": "python"
    }
  },
  "cells": [
    {
      "cell_type": "markdown",
      "source": [
        "Link: https://pynative.com/python-tuple-exercise-with-solutions/\n",
        "\n",
        "My notes:\n",
        "\n",
        "\n",
        "\n",
        "*   Tuples are iterable, immutable and ordered\n",
        "*   tuple1[i] outputs the i'th element in tuple1 (code works the same as lists)\n",
        "*   **list1 = list(tuple1)** converts a tuple to list\n",
        "*   **tuple2 = tuple(list2)** converts a list to tuple\n",
        "*   **Unpack** a tuple (Question 4): tuple1 = (10, 20, 30, 40)  Soln: a, b, c, d = tuple1\n",
        "\n",
        "\n",
        "So our strategy will be, convert tuple to list -> work on the problem list a \"List\" problem -> then convert that list to tuple if the output format demands it"
      ],
      "metadata": {
        "id": "aul1gTbVpUZO"
      }
    },
    {
      "cell_type": "markdown",
      "source": [
        "**Question 1: Reverse the tuple**\n",
        "\n",
        "tuple1 = (10, 20, 30, 40, 50)\n",
        "\n",
        "output_tuple = (50, 40, 30, 20, 10)\n"
      ],
      "metadata": {
        "id": "aE1GRhA5ppS-"
      }
    },
    {
      "cell_type": "code",
      "source": [
        "tuple1 = (10, 20, 30, 40, 50)\n",
        "\n",
        "list1 = list(tuple1)\n",
        "\n",
        "output_list = []\n",
        "for i in range(len(list1)):\n",
        "  output_list.append(list1[-1-i])\n",
        "\n",
        "output_tuple = tuple(output_list)\n",
        "output_tuple"
      ],
      "metadata": {
        "colab": {
          "base_uri": "https://localhost:8080/"
        },
        "id": "7FR0zi40pwLV",
        "outputId": "d6820a7f-14b4-42a3-8bad-01feb54cba19"
      },
      "execution_count": 3,
      "outputs": [
        {
          "output_type": "execute_result",
          "data": {
            "text/plain": [
              "(50, 40, 30, 20, 10)"
            ]
          },
          "metadata": {},
          "execution_count": 3
        }
      ]
    },
    {
      "cell_type": "markdown",
      "source": [
        "**Question 2: Access value 20 from the tuple**\n",
        "\n",
        "tuple1 = (\"Orange\", [10, 20, 30], (5, 15, 25))\n"
      ],
      "metadata": {
        "id": "DrTDAQwEqa4b"
      }
    },
    {
      "cell_type": "code",
      "source": [
        "tuple1 = (\"Orange\", [10, 20, 30], (5, 15, 25))\n",
        "\n",
        "tuple1[1][1]"
      ],
      "metadata": {
        "colab": {
          "base_uri": "https://localhost:8080/"
        },
        "id": "q_bDFTHVqhlr",
        "outputId": "8b163311-fcbf-46c4-b115-62a961493f5f"
      },
      "execution_count": 8,
      "outputs": [
        {
          "output_type": "execute_result",
          "data": {
            "text/plain": [
              "20"
            ]
          },
          "metadata": {},
          "execution_count": 8
        }
      ]
    },
    {
      "cell_type": "markdown",
      "source": [
        "**Question 3: Create a tuple with single item 50**"
      ],
      "metadata": {
        "id": "grS8khH2sGsi"
      }
    },
    {
      "cell_type": "code",
      "source": [
        "tuple1 = (50,)\n",
        "tuple1\n",
        "\n",
        "#The comma after 50 is what distinguishes it as a tuple with a single item, rather than just the integer value 50"
      ],
      "metadata": {
        "colab": {
          "base_uri": "https://localhost:8080/"
        },
        "id": "ms45yVjVsI1w",
        "outputId": "8c77d72d-557d-49b5-a4f5-b28371e9e080"
      },
      "execution_count": 11,
      "outputs": [
        {
          "output_type": "execute_result",
          "data": {
            "text/plain": [
              "(50,)"
            ]
          },
          "metadata": {},
          "execution_count": 11
        }
      ]
    },
    {
      "cell_type": "markdown",
      "source": [
        "**Question 4: Create a tuple with single item 50**\n",
        "\n",
        "tuple1 = (10, 20, 30, 40)\n",
        "\n",
        "\n",
        "print(a) # should print 10\n",
        "\n",
        "print(b) # should print 20\n",
        "\n",
        "print(c) # should print 30\n",
        "\n",
        "print(d) # should print 40"
      ],
      "metadata": {
        "id": "hhnq4drxq_Co"
      }
    },
    {
      "cell_type": "code",
      "source": [
        "tuple1 = (10, 20, 30, 40)\n",
        "\n",
        "# unpack tuple into 4 variables\n",
        "a, b, c, d = tuple1\n",
        "print(a)\n",
        "print(b)\n",
        "print(c)\n",
        "print(d)"
      ],
      "metadata": {
        "colab": {
          "base_uri": "https://localhost:8080/"
        },
        "id": "mVAeD896rMh3",
        "outputId": "2fbeeae0-d27f-4d8e-e5f8-8b0c5b0ee1f2"
      },
      "execution_count": 9,
      "outputs": [
        {
          "output_type": "stream",
          "name": "stdout",
          "text": [
            "10\n",
            "20\n",
            "30\n",
            "40\n"
          ]
        }
      ]
    },
    {
      "cell_type": "markdown",
      "source": [
        "**Question 5: Swap two tuples in Python**\n",
        "\n",
        "tuple1 = (11, 22)\n",
        "\n",
        "tuple2 = (99, 88)\n",
        "\n",
        "Expected output:\n",
        "\n",
        "tuple1: (99, 88)\n",
        "\n",
        "tuple2: (11, 22)\n"
      ],
      "metadata": {
        "id": "5fzKBNyRsbND"
      }
    },
    {
      "cell_type": "code",
      "source": [
        "tuple1 = (11, 22)\n",
        "tuple2 = (99, 88)\n",
        "\n",
        "tuple_temp = tuple1\n",
        "tuple1 = tuple2\n",
        "tuple2 = tuple_temp\n",
        "\n",
        "print(tuple1)\n",
        "print(tuple2)"
      ],
      "metadata": {
        "colab": {
          "base_uri": "https://localhost:8080/"
        },
        "id": "SuCAomkxsajG",
        "outputId": "c4cf07b1-e8bd-45be-cc57-a0c833c4864d"
      },
      "execution_count": 12,
      "outputs": [
        {
          "output_type": "stream",
          "name": "stdout",
          "text": [
            "(99, 88)\n",
            "(11, 22)\n"
          ]
        }
      ]
    },
    {
      "cell_type": "markdown",
      "source": [
        "**Question 6: Copy specific elements from one tuple to a new tuple**\n",
        "\n",
        "tuple1 = (11, 22, 33, 44, 55, 66)\n",
        "\n",
        "output_tuple: (44, 55)\n"
      ],
      "metadata": {
        "id": "4dL_79ZptQyd"
      }
    },
    {
      "cell_type": "code",
      "source": [
        "tuple1 = (11, 22, 33, 44, 55, 66)\n",
        "\n",
        "output_list = []\n",
        "\n",
        "for elements in tuple1:\n",
        "\n",
        "  if elements==44 or elements==55:\n",
        "    output_list.append(elements)\n",
        "\n",
        "tuple(output_list)\n"
      ],
      "metadata": {
        "colab": {
          "base_uri": "https://localhost:8080/"
        },
        "id": "VJkmvDFqtcWT",
        "outputId": "5961cccc-593d-48f1-a147-d2909be79aac"
      },
      "execution_count": 20,
      "outputs": [
        {
          "output_type": "execute_result",
          "data": {
            "text/plain": [
              "(44, 55)"
            ]
          },
          "metadata": {},
          "execution_count": 20
        }
      ]
    },
    {
      "cell_type": "markdown",
      "source": [
        "**Question 7: Modify the tuple**\n",
        "\n",
        "tuple1 = (11, [22, 33], 44, 55)\n",
        "\n",
        "output_list: (11, [222, 33], 44, 55)"
      ],
      "metadata": {
        "id": "LmeQXFsruZm8"
      }
    },
    {
      "cell_type": "code",
      "source": [
        "tuple1 = (11, [22, 33], 44, 55)\n",
        "\n",
        "tuple1[1][0]=222\n",
        "tuple1"
      ],
      "metadata": {
        "colab": {
          "base_uri": "https://localhost:8080/"
        },
        "id": "YmM2DkRRugLw",
        "outputId": "de16ebb6-65d7-41ad-9f9c-0ff01d58c6c1"
      },
      "execution_count": 26,
      "outputs": [
        {
          "output_type": "execute_result",
          "data": {
            "text/plain": [
              "(11, [222, 33], 44, 55)"
            ]
          },
          "metadata": {},
          "execution_count": 26
        }
      ]
    },
    {
      "cell_type": "markdown",
      "source": [
        "A list element inside a nested tuple (with an inner list) can be changed/updated by calling the index"
      ],
      "metadata": {
        "id": "rNU-AN_IvlEZ"
      }
    },
    {
      "cell_type": "markdown",
      "source": [
        "**Question 8: Sort a tuple of tuples by 2nd item**\n",
        "\n",
        "tuple1 = (('a', 23),('b', 37),('c', 11), ('d',29))\n",
        "\n",
        "output_tuple = (('c', 11), ('a', 23), ('d', 29), ('b', 37))"
      ],
      "metadata": {
        "id": "_c2e5tQDvtEY"
      }
    },
    {
      "cell_type": "code",
      "source": [
        "tuple1 = (('a', 23),('b', 37),('c', 11), ('d',29))\n",
        "\n",
        "output_tuple = (tuple1[2],tuple1[0],tuple1[3],tuple1[1])\n",
        "\n",
        "output_tuple\n",
        "\n",
        "# actual solution\n",
        "# tuple1 = tuple(sorted(list(tuple1), key=lambda x: x[1]))"
      ],
      "metadata": {
        "colab": {
          "base_uri": "https://localhost:8080/"
        },
        "id": "88kBnROXv32v",
        "outputId": "520c8fe5-3ec6-4960-f09f-3ca866335c2c"
      },
      "execution_count": 29,
      "outputs": [
        {
          "output_type": "execute_result",
          "data": {
            "text/plain": [
              "(('c', 11), ('a', 23), ('d', 29), ('b', 37))"
            ]
          },
          "metadata": {},
          "execution_count": 29
        }
      ]
    },
    {
      "cell_type": "markdown",
      "source": [
        "**Question 9: Counts the number of occurrences of item 50 from a tuple**\n",
        "\n",
        "tuple1 = (50, 10, 60, 70, 50)\n"
      ],
      "metadata": {
        "id": "7IJUbRMSwbOi"
      }
    },
    {
      "cell_type": "code",
      "source": [
        "tuple1 = (50, 10, 60, 70, 50)\n",
        "\n",
        "cnt = 0\n",
        "\n",
        "for elements in tuple1:\n",
        "  if elements==50:\n",
        "    cnt+=1\n",
        "\n",
        "cnt"
      ],
      "metadata": {
        "colab": {
          "base_uri": "https://localhost:8080/"
        },
        "id": "Wqd95_nQwiVw",
        "outputId": "7f1953e4-7ef2-4c48-eb8a-b7af9bfffbf4"
      },
      "execution_count": 31,
      "outputs": [
        {
          "output_type": "execute_result",
          "data": {
            "text/plain": [
              "2"
            ]
          },
          "metadata": {},
          "execution_count": 31
        }
      ]
    },
    {
      "cell_type": "markdown",
      "source": [
        "**Question 10: Check if all items in the tuple are the same**\n",
        "\n",
        "tuple1 = (45, 45, 45, 45)\n",
        "\n",
        "Expected output:\n",
        "\n",
        "True or False"
      ],
      "metadata": {
        "id": "NLVutGMTwts1"
      }
    },
    {
      "cell_type": "code",
      "source": [
        "tuple1 = (45, 45, 45, 45)\n",
        "\n",
        "\n",
        "def check_tuple_items(q_tuple):\n",
        "  ref_num = q_tuple[0]\n",
        "  for element in tuple1:\n",
        "    if element!=ref_num:\n",
        "      return(False)\n",
        "  return(True)\n",
        "\n",
        "check_tuple_items(tuple1)"
      ],
      "metadata": {
        "colab": {
          "base_uri": "https://localhost:8080/"
        },
        "id": "HlAMzdCFw1z2",
        "outputId": "e9d517ce-f2ba-4bee-826e-0402741b410a"
      },
      "execution_count": 36,
      "outputs": [
        {
          "output_type": "execute_result",
          "data": {
            "text/plain": [
              "True"
            ]
          },
          "metadata": {},
          "execution_count": 36
        }
      ]
    },
    {
      "cell_type": "markdown",
      "source": [],
      "metadata": {
        "id": "4LgXasrxsBJ2"
      }
    }
  ]
}