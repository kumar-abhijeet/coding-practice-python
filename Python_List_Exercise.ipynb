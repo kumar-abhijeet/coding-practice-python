{
  "nbformat": 4,
  "nbformat_minor": 0,
  "metadata": {
    "colab": {
      "provenance": []
    },
    "kernelspec": {
      "name": "python3",
      "display_name": "Python 3"
    },
    "language_info": {
      "name": "python"
    }
  },
  "cells": [
    {
      "cell_type": "markdown",
      "source": [
        "Link: https://pynative.com/python-list-exercise-with-solutions/"
      ],
      "metadata": {
        "id": "VOsmmWYOhjMN"
      }
    },
    {
      "cell_type": "markdown",
      "source": [
        "My notes:\n",
        "\n",
        "*   Lists are iterable (see Question 3), mutable and ordered\n",
        "*   **list1.append(elem)** adds an element to the end of the list\n",
        "*   **list1 = []** can be used to initialize a list\n",
        "*   **list1[i]** outputs the i'th element in list1\n",
        "*   **list2 = list1.copy()** https://www.programiz.com/python-programming/shallow-deep-copy (Question 8)\n",
        "\n",
        "\n",
        "\n"
      ],
      "metadata": {
        "id": "6ybsYDashqWA"
      }
    },
    {
      "cell_type": "markdown",
      "source": [
        "**Question 1: Reverse a list in Python**\n",
        "\n",
        "Input:\n",
        "list1 = [100, 200, 300, 400, 500]\n",
        "\n",
        "Output:\n",
        "list_output = [500, 400, 300, 200, 100]\n"
      ],
      "metadata": {
        "id": "gPumHrJxiSL_"
      }
    },
    {
      "cell_type": "code",
      "source": [
        "list1 = [100, 200, 300, 400, 500]\n",
        "\n",
        "list_output = []\n",
        "for i in range(len(list1)):\n",
        "  list_output.append(list1[-1-i])\n",
        "\n",
        "list_output"
      ],
      "metadata": {
        "colab": {
          "base_uri": "https://localhost:8080/"
        },
        "id": "a3r1-xq4hnfM",
        "outputId": "81778a5a-f59e-4992-8c76-283ea1a2b85a"
      },
      "execution_count": 1,
      "outputs": [
        {
          "output_type": "execute_result",
          "data": {
            "text/plain": [
              "[500, 400, 300, 200, 100]"
            ]
          },
          "metadata": {},
          "execution_count": 1
        }
      ]
    },
    {
      "cell_type": "markdown",
      "source": [
        "**Question 2: Concatenate two lists index-wise**\n",
        "\n",
        "list1 = [\"M\", \"na\", \"i\", \"Ke\"]\n",
        "\n",
        "list2 = [\"y\", \"me\", \"s\", \"lly\"]\n",
        "\n",
        "output_list = ['My', 'name', 'is', 'Kelly']"
      ],
      "metadata": {
        "id": "UJcisYJGi8NE"
      }
    },
    {
      "cell_type": "code",
      "source": [
        "list1 = [\"M\", \"na\", \"i\", \"Ke\"]\n",
        "list2 = [\"y\", \"me\", \"s\", \"lly\"]\n",
        "\n",
        "output_list = []\n",
        "for i in range(len(list1)):\n",
        "  output_list.append(list1[i]+list2[i])\n",
        "\n",
        "output_list"
      ],
      "metadata": {
        "colab": {
          "base_uri": "https://localhost:8080/"
        },
        "id": "VePP83qdjD_O",
        "outputId": "9cb354a0-1e44-4e1e-c890-34eafe8a3ba9"
      },
      "execution_count": 2,
      "outputs": [
        {
          "output_type": "execute_result",
          "data": {
            "text/plain": [
              "['My', 'name', 'is', 'Kelly']"
            ]
          },
          "metadata": {},
          "execution_count": 2
        }
      ]
    },
    {
      "cell_type": "markdown",
      "source": [
        "**Question 3: Turn every item of a list into its square**\n",
        "\n",
        "numbers = [1, 2, 3, 4, 5, 6, 7]\n",
        "\n",
        "output_list = [1, 4, 9, 16, 25, 36, 49]"
      ],
      "metadata": {
        "id": "r1daOpcKjXkG"
      }
    },
    {
      "cell_type": "code",
      "source": [
        "numbers = [1, 2, 3, 4, 5, 6, 7]\n",
        "\n",
        "output_list = []\n",
        "for elements in numbers:\n",
        "  output_list.append(elements*elements)\n",
        "\n",
        "output_list"
      ],
      "metadata": {
        "colab": {
          "base_uri": "https://localhost:8080/"
        },
        "id": "TNxhbJadjglP",
        "outputId": "fb6aeed8-f2e8-4f3f-8f14-a8b4cb51862d"
      },
      "execution_count": 7,
      "outputs": [
        {
          "output_type": "execute_result",
          "data": {
            "text/plain": [
              "[1, 4, 9, 16, 25, 36, 49]"
            ]
          },
          "metadata": {},
          "execution_count": 7
        }
      ]
    },
    {
      "cell_type": "markdown",
      "source": [
        "**Question 4: Concatenate two lists in the following order**\n",
        "\n",
        "list1 = [\"Hello \", \"take \"]\n",
        "\n",
        "list2 = [\"Dear\", \"Sir\"]\n",
        "\n",
        "output_list = ['Hello Dear', 'Hello Sir', 'take Dear', 'take Sir']"
      ],
      "metadata": {
        "id": "6V5JoTkskXnb"
      }
    },
    {
      "cell_type": "code",
      "source": [
        "list1 = [\"Hello \", \"take \"]\n",
        "list2 = [\"Dear\", \"Sir\"]\n",
        "\n",
        "output_list = []\n",
        "\n",
        "for elements1 in list1:\n",
        "  for elements2 in list2:\n",
        "    output_list.append(elements1+elements2)\n",
        "\n",
        "output_list"
      ],
      "metadata": {
        "colab": {
          "base_uri": "https://localhost:8080/"
        },
        "id": "6WPuP-YekfpP",
        "outputId": "4eecd053-304a-44f4-8a47-cc5257eae8aa"
      },
      "execution_count": 8,
      "outputs": [
        {
          "output_type": "execute_result",
          "data": {
            "text/plain": [
              "['Hello Dear', 'Hello Sir', 'take Dear', 'take Sir']"
            ]
          },
          "metadata": {},
          "execution_count": 8
        }
      ]
    },
    {
      "cell_type": "markdown",
      "source": [
        "**Question 5: Iterate both lists simultaneously**\n",
        "\n",
        "list1 = [10, 20, 30, 40]\n",
        "\n",
        "list2 = [100, 200, 300, 400]\n",
        "\n",
        "expected output:\n",
        "\n",
        "10 400\n",
        "\n",
        "20 300\n",
        "\n",
        "30 200\n",
        "\n",
        "40 100"
      ],
      "metadata": {
        "id": "A_JXGVNckumQ"
      }
    },
    {
      "cell_type": "code",
      "source": [
        "list1 = [10, 20, 30, 40]\n",
        "list2 = [100, 200, 300, 400]\n",
        "\n",
        "for i in range(len(list1)):\n",
        "  print(list1[i],list2[-1-i])"
      ],
      "metadata": {
        "colab": {
          "base_uri": "https://localhost:8080/"
        },
        "id": "jUt1Xu75k96e",
        "outputId": "bd471528-87d9-46b1-f370-a271e5739258"
      },
      "execution_count": 12,
      "outputs": [
        {
          "output_type": "stream",
          "name": "stdout",
          "text": [
            "10 400\n",
            "20 300\n",
            "30 200\n",
            "40 100\n"
          ]
        }
      ]
    },
    {
      "cell_type": "markdown",
      "source": [
        "**Question 6: Remove empty strings from the list of strings**\n",
        "\n",
        "list1 = [\"Mike\", \"\", \"Emma\", \"Kelly\", \"\", \"Brad\"]\n",
        "\n",
        "output_list = [\"Mike\", \"Emma\", \"Kelly\", \"Brad\"]\n"
      ],
      "metadata": {
        "id": "g8cg9PVylVxD"
      }
    },
    {
      "cell_type": "code",
      "source": [
        "list1 = [\"Mike\", \"\", \"Emma\", \"Kelly\", \"\", \"Brad\"]\n",
        "\n",
        "output_list = []\n",
        "\n",
        "for elements in list1:\n",
        "  if elements==\"\":\n",
        "    pass\n",
        "  else:\n",
        "    output_list.append(elements)\n",
        "\n",
        "output_list"
      ],
      "metadata": {
        "colab": {
          "base_uri": "https://localhost:8080/"
        },
        "id": "eAeup6GclbvV",
        "outputId": "8d5b9f7b-1077-4083-9ccb-e27525a9062f"
      },
      "execution_count": 13,
      "outputs": [
        {
          "output_type": "execute_result",
          "data": {
            "text/plain": [
              "['Mike', 'Emma', 'Kelly', 'Brad']"
            ]
          },
          "metadata": {},
          "execution_count": 13
        }
      ]
    },
    {
      "cell_type": "markdown",
      "source": [
        "**Question 7: Add new item to list after a specified item**\n",
        "\n",
        "list1 = [10, 20, [300, 400, [5000, 6000], 500], 30, 40]\n",
        "\n",
        "output_list = [10, 20, [300, 400, [5000, 6000, 7000], 500], 30, 40]"
      ],
      "metadata": {
        "id": "b69nCt57lsIR"
      }
    },
    {
      "cell_type": "code",
      "source": [
        "list1 = [10, 20, [300, 400, [5000, 6000], 500], 30, 40]\n",
        "\n",
        "list1[2][2].append(7000)\n",
        "list1"
      ],
      "metadata": {
        "colab": {
          "base_uri": "https://localhost:8080/"
        },
        "id": "o5GXb-dol1_U",
        "outputId": "d8e8cea8-ff98-4080-c652-636950e18b05"
      },
      "execution_count": 18,
      "outputs": [
        {
          "output_type": "execute_result",
          "data": {
            "text/plain": [
              "[10, 20, [300, 400, [5000, 6000, 7000], 500], 30, 40]"
            ]
          },
          "metadata": {},
          "execution_count": 18
        }
      ]
    },
    {
      "cell_type": "markdown",
      "source": [
        "**Question 8: Extend nested list by adding the sublist**\n",
        "\n",
        "list1 = [\"a\", \"b\", [\"c\", [\"d\", \"e\", [\"f\", \"g\"], \"k\"], \"l\"], \"m\", \"n\"]\n",
        "\n",
        "sub list to add\n",
        "\n",
        "sub_list = [\"h\", \"i\", \"j\"]\n",
        "\n",
        "output_list = ['a', 'b', ['c', ['d', 'e', ['f', 'g', 'h', 'i', 'j'], 'k'], 'l'], 'm', 'n']"
      ],
      "metadata": {
        "id": "VOhSP080mEMo"
      }
    },
    {
      "cell_type": "code",
      "source": [
        "list1 = [\"a\", \"b\", [\"c\", [\"d\", \"e\", [\"f\", \"g\"], \"k\"], \"l\"], \"m\", \"n\"]\n",
        "sub_list = [\"h\", \"i\", \"j\"]\n",
        "\n",
        "output_list = list1.copy()\n",
        "\n",
        "for elements in sub_list:\n",
        "  list1[2][1][2].append(elements)\n",
        "\n",
        "output_list"
      ],
      "metadata": {
        "colab": {
          "base_uri": "https://localhost:8080/"
        },
        "id": "jkqCDT-GmL7s",
        "outputId": "3e3c65ef-619e-4c1a-8168-5700577c97c1"
      },
      "execution_count": 28,
      "outputs": [
        {
          "output_type": "execute_result",
          "data": {
            "text/plain": [
              "['a', 'b', ['c', ['d', 'e', ['f', 'g', 'h', 'i', 'j'], 'k'], 'l'], 'm', 'n']"
            ]
          },
          "metadata": {},
          "execution_count": 28
        }
      ]
    },
    {
      "cell_type": "markdown",
      "source": [
        "**Question 9: Replace list’s item with new value if found**\n",
        "\n",
        "list1 = [5, 10, 15, 20, 25, 50, 20]\n",
        "\n",
        "output [5, 10, 15, 200, 25, 50, 20]"
      ],
      "metadata": {
        "id": "70Lahyt0nfOg"
      }
    },
    {
      "cell_type": "code",
      "source": [
        "list1 = [5, 10, 15, 20, 25, 50, 20]\n",
        "\n",
        "list1[3]=200\n",
        "list1"
      ],
      "metadata": {
        "colab": {
          "base_uri": "https://localhost:8080/"
        },
        "id": "2fQsXNronnx4",
        "outputId": "344399c8-6ea1-48d0-e067-af03d0c803e5"
      },
      "execution_count": 31,
      "outputs": [
        {
          "output_type": "execute_result",
          "data": {
            "text/plain": [
              "[5, 10, 15, 200, 25, 50, 20]"
            ]
          },
          "metadata": {},
          "execution_count": 31
        }
      ]
    },
    {
      "cell_type": "markdown",
      "source": [
        "**Question 10: Remove all occurrences of a specific item from a list.**\n",
        "\n",
        "list1 = [5, 20, 15, 20, 25, 50, 20]\n",
        "\n",
        "output_list = [5, 15, 25, 50]"
      ],
      "metadata": {
        "id": "ya-_z6FDn8s8"
      }
    },
    {
      "cell_type": "code",
      "source": [
        "list1 = [5, 20, 15, 20, 25, 50, 20]\n",
        "\n",
        "output_list = []\n",
        "\n",
        "for elements in list1:\n",
        "  if elements == 20:\n",
        "    pass\n",
        "  else:\n",
        "    output_list.append(elements)\n",
        "\n",
        "output_list"
      ],
      "metadata": {
        "colab": {
          "base_uri": "https://localhost:8080/"
        },
        "id": "dX3yxtFaoDYj",
        "outputId": "981db036-8242-4c4e-9152-3c00bda58b1a"
      },
      "execution_count": 32,
      "outputs": [
        {
          "output_type": "execute_result",
          "data": {
            "text/plain": [
              "[5, 15, 25, 50]"
            ]
          },
          "metadata": {},
          "execution_count": 32
        }
      ]
    }
  ]
}