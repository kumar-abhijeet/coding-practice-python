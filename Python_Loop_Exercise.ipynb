{
  "nbformat": 4,
  "nbformat_minor": 0,
  "metadata": {
    "colab": {
      "provenance": []
    },
    "kernelspec": {
      "name": "python3",
      "display_name": "Python 3"
    },
    "language_info": {
      "name": "python"
    }
  },
  "cells": [
    {
      "cell_type": "markdown",
      "source": [
        "My notes:\n",
        "\n",
        "**if** Loop:\n",
        "*   if -> **elif** -> else\n",
        "\n",
        "**for** Loop:\n",
        "*   **pass**: skip it, **break**: stop the loop (Question 5)\n",
        "\n",
        "\n",
        "Floor division in Python: **a // b**\n"
      ],
      "metadata": {
        "id": "o2K1L9vLaSj0"
      }
    },
    {
      "cell_type": "markdown",
      "source": [
        "**Question 1: Print First 10 natural numbers using while loop**\n",
        "\n"
      ],
      "metadata": {
        "id": "L3N_gNd3yPOV"
      }
    },
    {
      "cell_type": "code",
      "source": [
        "num = 1\n",
        "while(num<=10):\n",
        "  print(num)\n",
        "  num+=1"
      ],
      "metadata": {
        "colab": {
          "base_uri": "https://localhost:8080/"
        },
        "id": "GRG9CnFgyR3F",
        "outputId": "1e4f7e57-c754-4f9e-b29c-ce46ecb16eec"
      },
      "execution_count": null,
      "outputs": [
        {
          "output_type": "stream",
          "name": "stdout",
          "text": [
            "1\n",
            "2\n",
            "3\n",
            "4\n",
            "5\n",
            "6\n",
            "7\n",
            "8\n",
            "9\n",
            "10\n"
          ]
        }
      ]
    },
    {
      "cell_type": "markdown",
      "source": [
        "**Question 2: Write a program to print the following number pattern using a loop.**\n",
        "\n",
        "1\n",
        "\n",
        "1 2\n",
        "\n",
        "1 2 3\n",
        "\n",
        "1 2 3 4\n",
        "\n",
        "1 2 3 4 5"
      ],
      "metadata": {
        "id": "bYQ_vkTpyggn"
      }
    },
    {
      "cell_type": "code",
      "source": [
        "print(\"Number Pattern \")\n",
        "\n",
        "# Decide the row count. (above pattern contains 5 rows)\n",
        "row = 5\n",
        "# start: 1\n",
        "# stop: row+1 (range never include stop number in result)\n",
        "# step: 1\n",
        "# run loop 5 times\n",
        "for i in range(1, row + 1, 1):\n",
        "    # Run inner loop i+1 times\n",
        "    for j in range(1, i + 1):\n",
        "        print(j, end=' ')\n",
        "    # empty line after each row\n",
        "    print(\"\")\n"
      ],
      "metadata": {
        "colab": {
          "base_uri": "https://localhost:8080/"
        },
        "id": "JW5EMwW7ykca",
        "outputId": "6f81f46b-89e6-4e2c-d549-b15707e37b6d"
      },
      "execution_count": null,
      "outputs": [
        {
          "output_type": "stream",
          "name": "stdout",
          "text": [
            "1 2\n",
            "12 3\n",
            "123 4\n",
            "1234 5\n"
          ]
        }
      ]
    },
    {
      "cell_type": "markdown",
      "source": [
        "**Question 3: Calculate the sum of all numbers from 1 to a given number**\n",
        "\n",
        "a program to accept a number from a user and calculate the sum of all numbers from 1 to a given number\n",
        "\n",
        "if the user entered 10 the output should be 55 (1+2+3+4+5+6+7+8+9+10)"
      ],
      "metadata": {
        "id": "SdpQ9M_oYYgs"
      }
    },
    {
      "cell_type": "code",
      "source": [
        "sum = 0\n",
        "\n",
        "for i in range(1,11):\n",
        "  sum+=i\n",
        "\n",
        "sum"
      ],
      "metadata": {
        "colab": {
          "base_uri": "https://localhost:8080/"
        },
        "id": "MJ5CBeV_YlSm",
        "outputId": "f1054b24-cf63-40d7-cd81-939f3bbe21bf"
      },
      "execution_count": 2,
      "outputs": [
        {
          "output_type": "execute_result",
          "data": {
            "text/plain": [
              "55"
            ]
          },
          "metadata": {},
          "execution_count": 2
        }
      ]
    },
    {
      "cell_type": "markdown",
      "source": [
        "**Question 4: Write a program to print multiplication table of a given number**\n",
        "\n",
        "For example, num = 2 so the output should be\n",
        "\n",
        "2\n",
        "\n",
        "4\n",
        "\n",
        "6\n",
        "\n",
        "8\n",
        "\n",
        "10\n",
        "\n",
        "12\n",
        "\n",
        "14\n",
        "\n",
        "16\n",
        "\n",
        "18\n",
        "\n",
        "20"
      ],
      "metadata": {
        "id": "MO2Uj3iLY6wR"
      }
    },
    {
      "cell_type": "code",
      "source": [
        "for i in range(1,11):\n",
        "  print(i*2)"
      ],
      "metadata": {
        "colab": {
          "base_uri": "https://localhost:8080/"
        },
        "id": "Xy-M0zwyZBv8",
        "outputId": "b6006f4e-0bc3-415b-b18f-7b2f81056358"
      },
      "execution_count": 4,
      "outputs": [
        {
          "output_type": "stream",
          "name": "stdout",
          "text": [
            "2\n",
            "4\n",
            "6\n",
            "8\n",
            "10\n",
            "12\n",
            "14\n",
            "16\n",
            "18\n",
            "20\n"
          ]
        }
      ]
    },
    {
      "cell_type": "markdown",
      "source": [
        "**Question 5: Display numbers from a list using loop**\n",
        "\n",
        "program to display only those numbers from a list that satisfy the following conditions\n",
        "\n",
        "*   The number must be divisible by five\n",
        "*   If the number is greater than 150, then skip it and move to the next number\n",
        "*   If the number is greater than 500, then stop the loop\n",
        "\n",
        "\n",
        "Given:\n",
        "\n",
        "numbers = [12, 75, 150, 180, 145, 525, 50]\n",
        "\n",
        "output:\n",
        "\n",
        "75\n",
        "\n",
        "150\n",
        "\n",
        "145"
      ],
      "metadata": {
        "id": "s8RAgGheZI0z"
      }
    },
    {
      "cell_type": "code",
      "source": [
        "numbers = [12, 75, 150, 180, 145, 525, 50]\n",
        "\n",
        "for num in numbers:\n",
        "  if num>500:\n",
        "    break\n",
        "  elif num>150:\n",
        "    pass\n",
        "  elif num%5==0:\n",
        "    print(num)"
      ],
      "metadata": {
        "colab": {
          "base_uri": "https://localhost:8080/"
        },
        "id": "rji1tFiKZfkz",
        "outputId": "8df54eff-df2a-41b8-f019-3975684e2b6e"
      },
      "execution_count": 6,
      "outputs": [
        {
          "output_type": "stream",
          "name": "stdout",
          "text": [
            "75\n",
            "150\n",
            "145\n"
          ]
        }
      ]
    },
    {
      "cell_type": "markdown",
      "source": [
        "**Question 6: Count the total number of digits in a number**\n",
        "\n",
        "count the total number of digits in a number using a while loop.\n",
        "For example, the number is 75869, so the output should be 5."
      ],
      "metadata": {
        "id": "lIokPCkwaxWT"
      }
    },
    {
      "cell_type": "code",
      "source": [
        "num = 75869\n",
        "cnt = 0\n",
        "\n",
        "while num != 0:\n",
        "    num = num // 10 # floor division\n",
        "    cnt+=1\n",
        "\n",
        "cnt"
      ],
      "metadata": {
        "colab": {
          "base_uri": "https://localhost:8080/"
        },
        "id": "UsB8q1RJbQmm",
        "outputId": "304952b6-7d06-433b-b7a9-8e94675497ff"
      },
      "execution_count": 14,
      "outputs": [
        {
          "output_type": "execute_result",
          "data": {
            "text/plain": [
              "5"
            ]
          },
          "metadata": {},
          "execution_count": 14
        }
      ]
    },
    {
      "cell_type": "markdown",
      "source": [
        "**Question 7: Print the following pattern**\n",
        "\n",
        "use for loop to print the following reverse number pattern\n",
        "\n",
        "5 4 3 2 1\n",
        "\n",
        "4 3 2 1\n",
        "\n",
        "3 2 1\n",
        "\n",
        "2 1\n",
        "\n",
        "1"
      ],
      "metadata": {
        "id": "24RDfbmBcNhR"
      }
    },
    {
      "cell_type": "markdown",
      "source": [
        "**Question 8: Print list in reverse order using a loop**\n",
        "\n",
        "list1 = [10, 20, 30, 40, 50]\n",
        "\n",
        "50\n",
        "\n",
        "40\n",
        "\n",
        "30\n",
        "\n",
        "20\n",
        "\n",
        "10"
      ],
      "metadata": {
        "id": "3dsyUolRcYki"
      }
    },
    {
      "cell_type": "code",
      "source": [
        "list1 = [10, 20, 30, 40, 50]\n",
        "\n",
        "for i in range(len(list1)):\n",
        "  print(list1[-1-i])"
      ],
      "metadata": {
        "colab": {
          "base_uri": "https://localhost:8080/"
        },
        "id": "G-O0OFtQcWD4",
        "outputId": "379bf8fb-3b68-4683-8556-24c83a193334"
      },
      "execution_count": 15,
      "outputs": [
        {
          "output_type": "stream",
          "name": "stdout",
          "text": [
            "50\n",
            "40\n",
            "30\n",
            "20\n",
            "10\n"
          ]
        }
      ]
    },
    {
      "cell_type": "markdown",
      "source": [
        "**Question 9: Display numbers from -10 to -1 using for loop**\n",
        "\n",
        "-10\n",
        "\n",
        "-9\n",
        "\n",
        "-8\n",
        "\n",
        "-7\n",
        "\n",
        "-6\n",
        "\n",
        "-5\n",
        "\n",
        "-4\n",
        "\n",
        "-3\n",
        "\n",
        "-2\n",
        "\n",
        "-1"
      ],
      "metadata": {
        "id": "gCDNBHfNcn02"
      }
    },
    {
      "cell_type": "code",
      "source": [
        "for num in range(-10,0):\n",
        "  print(num)"
      ],
      "metadata": {
        "colab": {
          "base_uri": "https://localhost:8080/"
        },
        "id": "EdsQnZzccwXt",
        "outputId": "ec6b8f50-675f-43b1-a01b-fd7b6836415e"
      },
      "execution_count": 17,
      "outputs": [
        {
          "output_type": "stream",
          "name": "stdout",
          "text": [
            "-10\n",
            "-9\n",
            "-8\n",
            "-7\n",
            "-6\n",
            "-5\n",
            "-4\n",
            "-3\n",
            "-2\n",
            "-1\n"
          ]
        }
      ]
    },
    {
      "cell_type": "markdown",
      "source": [
        "**Question 10: Use else block to display a message “Done” after successful execution of for loop**\n",
        "\n",
        "for i in range(5):\n",
        "\n",
        "print(i)\n",
        "\n",
        "\n",
        "Output:\n",
        "\n",
        "0\n",
        "\n",
        "1\n",
        "\n",
        "2\n",
        "\n",
        "3\n",
        "\n",
        "4\n",
        "\n",
        "Done!"
      ],
      "metadata": {
        "id": "_Xi6lt_5c4k-"
      }
    },
    {
      "cell_type": "code",
      "source": [
        "for i in range(6):\n",
        "  if i<5:\n",
        "    print(i)\n",
        "  else:\n",
        "    print(\"Done\")"
      ],
      "metadata": {
        "colab": {
          "base_uri": "https://localhost:8080/"
        },
        "id": "O0i9W7xrdGvd",
        "outputId": "0d230b05-ef93-4d7b-b0e0-54705c402f88"
      },
      "execution_count": 20,
      "outputs": [
        {
          "output_type": "stream",
          "name": "stdout",
          "text": [
            "0\n",
            "1\n",
            "2\n",
            "3\n",
            "4\n",
            "Done\n"
          ]
        }
      ]
    },
    {
      "cell_type": "markdown",
      "source": [
        "**Question 11: Write a program to display all prime numbers within a range**\n",
        "\n",
        "range\n",
        "\n",
        "start = 25\n",
        "\n",
        "end = 50\n",
        "\n",
        "output:\n",
        "\n",
        "Prime numbers between 25 and 50 are:\n",
        "\n",
        "29\n",
        "\n",
        "31\n",
        "\n",
        "37\n",
        "\n",
        "41\n",
        "\n",
        "43\n",
        "\n",
        "47"
      ],
      "metadata": {
        "id": "ZLo0Gjc2dk8S"
      }
    },
    {
      "cell_type": "code",
      "source": [
        "start=25\n",
        "end=50\n",
        "\n",
        "import math\n",
        "\n",
        "print(math.sqrt(end))"
      ],
      "metadata": {
        "colab": {
          "base_uri": "https://localhost:8080/"
        },
        "id": "utLl5A6vd0uL",
        "outputId": "14b4ebcb-47ff-44df-f4ac-99d71089f3a3"
      },
      "execution_count": 26,
      "outputs": [
        {
          "output_type": "stream",
          "name": "stdout",
          "text": [
            "7.0710678118654755\n"
          ]
        }
      ]
    },
    {
      "cell_type": "code",
      "source": [
        "for num in range(start, end):\n",
        "  if num%2==0 or num%3==0 or num%5==0 or num%7==0:\n",
        "    pass\n",
        "  else:\n",
        "    print(num)"
      ],
      "metadata": {
        "colab": {
          "base_uri": "https://localhost:8080/"
        },
        "id": "QxZDqVkHemTz",
        "outputId": "428c4add-30cf-4f0e-ccca-7ce1329be435"
      },
      "execution_count": 28,
      "outputs": [
        {
          "output_type": "stream",
          "name": "stdout",
          "text": [
            "29\n",
            "31\n",
            "37\n",
            "41\n",
            "43\n",
            "47\n"
          ]
        }
      ]
    },
    {
      "cell_type": "markdown",
      "source": [
        "**Question 12: Display Fibonacci series up to 10 terms**\n",
        "\n",
        "The Fibonacci Sequence is a series of numbers. The next number is found by adding up the two numbers before it. The first two numbers are 0 and 1.\n",
        "\n",
        "For example, 0, 1, 1, 2, 3, 5, 8, 13, 21. The next number in this series above is 13+21 = 34.\n",
        "\n",
        "Fibonacci sequence:\n",
        "\n",
        "0  1  1  2  3  5  8  13  21  34"
      ],
      "metadata": {
        "id": "m_BbkoY0exfd"
      }
    },
    {
      "cell_type": "code",
      "source": [
        "start = 0\n",
        "end = 1\n",
        "\n",
        "print(start)\n",
        "\n",
        "for counter in range(1,10):\n",
        "  print(end)\n",
        "  start,end=end,start+end\n",
        "\n",
        "#for i in range(10):\n",
        "    # print next number of a series\n",
        "#    print(num1, end=\"  \")\n",
        "    # add last two numbers to get next number\n",
        "#    res = num1 + num2\n",
        "\n",
        "    # update values\n",
        "#    num1 = num2\n",
        "#    num2 = res"
      ],
      "metadata": {
        "colab": {
          "base_uri": "https://localhost:8080/"
        },
        "id": "qxJePKV_fQqi",
        "outputId": "5d67ca0d-f6df-4a9e-e92d-b6b42a3ec46f"
      },
      "execution_count": 33,
      "outputs": [
        {
          "output_type": "stream",
          "name": "stdout",
          "text": [
            "0\n",
            "1\n",
            "1\n",
            "2\n",
            "3\n",
            "5\n",
            "8\n",
            "13\n",
            "21\n",
            "34\n"
          ]
        }
      ]
    },
    {
      "cell_type": "markdown",
      "source": [
        "**Question 13: Find the factorial of a given number**\n",
        "\n",
        "The factorial (symbol: !) means to multiply all whole numbers from the chosen number down to 1.\n",
        "\n",
        "For example: calculate the factorial of 5\n",
        "\n",
        "5! = 5 × 4 × 3 × 2 × 1 = 120\n",
        "\n",
        "output:\n",
        "\n",
        "120"
      ],
      "metadata": {
        "id": "WJEeloc8gXqQ"
      }
    },
    {
      "cell_type": "code",
      "source": [
        "factorial_val = 1\n",
        "\n",
        "for i in range(5):\n",
        "  factorial_val*=(i+1)\n",
        "\n",
        "factorial_val"
      ],
      "metadata": {
        "colab": {
          "base_uri": "https://localhost:8080/"
        },
        "id": "ItoCfK36gjup",
        "outputId": "c9278f19-8c59-40c9-91b9-79133dfe31e9"
      },
      "execution_count": 39,
      "outputs": [
        {
          "output_type": "execute_result",
          "data": {
            "text/plain": [
              "120"
            ]
          },
          "metadata": {},
          "execution_count": 39
        }
      ]
    },
    {
      "cell_type": "markdown",
      "source": [
        "**Question 14: Reverse a given integer number**\n",
        "\n",
        "Given:\n",
        "\n",
        "76542\n",
        "\n",
        "Expected output:\n",
        "\n",
        "24567"
      ],
      "metadata": {
        "id": "Azk4fm-qhNli"
      }
    },
    {
      "cell_type": "code",
      "source": [
        "num = 76542\n",
        "reverse_number = 0\n",
        "while num > 0:\n",
        "    reminder = num % 10\n",
        "    reverse_number = (reverse_number * 10) + reminder\n",
        "    num = num // 10\n",
        "print(reverse_number)"
      ],
      "metadata": {
        "colab": {
          "base_uri": "https://localhost:8080/"
        },
        "id": "HYEd7rXahTmT",
        "outputId": "8f48b79d-785c-4dfa-8ac4-39d8a7f6cb93"
      },
      "execution_count": 50,
      "outputs": [
        {
          "output_type": "stream",
          "name": "stdout",
          "text": [
            "24567\n"
          ]
        }
      ]
    },
    {
      "cell_type": "markdown",
      "source": [
        "**Question 15: Use a loop to display elements from a given list present at odd index positions**\n",
        "\n",
        "my_list = [10, 20, 30, 40, 50, 60, 70, 80, 90, 100]\n",
        "\n",
        "output: 20 40 60 80 100"
      ],
      "metadata": {
        "id": "wKWhnIiUidFV"
      }
    },
    {
      "cell_type": "code",
      "source": [
        "my_list = [10, 20, 30, 40, 50, 60, 70, 80, 90, 100]\n",
        "\n",
        "for i in range(len(my_list)):\n",
        "  if i%2==0:\n",
        "    pass\n",
        "  else:\n",
        "    print(my_list[i])"
      ],
      "metadata": {
        "colab": {
          "base_uri": "https://localhost:8080/"
        },
        "id": "L0uKhoaiimU-",
        "outputId": "95cc9cb1-eeac-4d84-9f47-04317b56c00e"
      },
      "execution_count": 52,
      "outputs": [
        {
          "output_type": "stream",
          "name": "stdout",
          "text": [
            "20\n",
            "40\n",
            "60\n",
            "80\n",
            "100\n"
          ]
        }
      ]
    },
    {
      "cell_type": "markdown",
      "source": [
        "**Question 16: Calculate the cube of all numbers from 1 to a given number**\n",
        "\n",
        "Write a program to rint the cube of all numbers from 1 to a given number\n",
        "\n",
        "Given:\n",
        "\n",
        "input_number = 6\n",
        "\n",
        "Expected output:\n",
        "\n",
        "Current Number is : 1  and the cube is 1\n",
        "\n",
        "Current Number is : 2  and the cube is 8\n",
        "\n",
        "Current Number is : 3  and the cube is 27\n",
        "\n",
        "Current Number is : 4  and the cube is 64\n",
        "\n",
        "Current Number is : 5  and the cube is 125\n",
        "\n",
        "Current Number is : 6  and the cube is 216"
      ],
      "metadata": {
        "id": "6565WBlFjvAy"
      }
    },
    {
      "cell_type": "code",
      "source": [
        "given_num = 6\n",
        "for num in range(1,given_num+1):\n",
        "  print(\"Current Number is :\",num, \"and the cube is\", num*num*num)"
      ],
      "metadata": {
        "colab": {
          "base_uri": "https://localhost:8080/"
        },
        "id": "wYWtYk1mj1tL",
        "outputId": "275e8428-4f42-48e1-cc27-371698f28fdb"
      },
      "execution_count": 55,
      "outputs": [
        {
          "output_type": "stream",
          "name": "stdout",
          "text": [
            "Current Number is : 1 and the cube is 1\n",
            "Current Number is : 2 and the cube is 8\n",
            "Current Number is : 3 and the cube is 27\n",
            "Current Number is : 4 and the cube is 64\n",
            "Current Number is : 5 and the cube is 125\n",
            "Current Number is : 6 and the cube is 216\n"
          ]
        }
      ]
    },
    {
      "cell_type": "markdown",
      "source": [
        "**Question 17: Find the sum of the series upto n terms**\n",
        "\n",
        "calculate the sum of series up to n term. For example, if n =5 the series will become 2 + 22 + 222 + 2222 + 22222 = 24690"
      ],
      "metadata": {
        "id": "gjQCSTgLkNyl"
      }
    },
    {
      "cell_type": "code",
      "source": [
        "n=5\n",
        "\n",
        "greatest_num = int(\"2\"*5)\n",
        "sum = greatest_num\n",
        "\n",
        "for i in range(1,5):\n",
        "  greatest_num//=10\n",
        "  sum+=greatest_num\n",
        "\n",
        "sum"
      ],
      "metadata": {
        "colab": {
          "base_uri": "https://localhost:8080/"
        },
        "id": "LZvVlR5jjzio",
        "outputId": "ddf3f995-5680-4607-d88a-612598bfaf50"
      },
      "execution_count": 59,
      "outputs": [
        {
          "output_type": "execute_result",
          "data": {
            "text/plain": [
              "24690"
            ]
          },
          "metadata": {},
          "execution_count": 59
        }
      ]
    },
    {
      "cell_type": "markdown",
      "source": [
        "**Question 18: Print the following pattern**\n",
        "\n",
        "Write a program to print the following start pattern using the for loop\n",
        "\n",
        "\n"
      ],
      "metadata": {
        "id": "Vx0-g569lGld"
      }
    },
    {
      "cell_type": "code",
      "source": [
        "rows = 5\n",
        "for i in range(0, rows):\n",
        "    for j in range(0, i + 1):\n",
        "        print(\"*\", end=' ')\n",
        "    print(\"\\r\")\n",
        "\n",
        "for i in range(rows, 0, -1):\n",
        "    for j in range(0, i - 1):\n",
        "        print(\"*\", end=' ')\n",
        "    print(\"\\r\")"
      ],
      "metadata": {
        "colab": {
          "base_uri": "https://localhost:8080/"
        },
        "id": "DuYb_hGZlm0T",
        "outputId": "633a3e76-db9b-4246-b805-b55ddfc62ff8"
      },
      "execution_count": 60,
      "outputs": [
        {
          "output_type": "stream",
          "name": "stdout",
          "text": [
            "* \r\n",
            "* * \r\n",
            "* * * \r\n",
            "* * * * \r\n",
            "* * * * * \r\n",
            "* * * * \r\n",
            "* * * \r\n",
            "* * \r\n",
            "* \r\n",
            "\r\n"
          ]
        }
      ]
    }
  ]
}